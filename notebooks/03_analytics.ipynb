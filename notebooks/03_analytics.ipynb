{
  "cells": [
    {
      "cell_type": "code",
      "execution_count": null,
      "metadata": {},
      "outputs": [],
      "source": [
        "# 03 - Analytics (silver → gold)\n"
      ]
    },
    {
      "cell_type": "code",
      "execution_count": null,
      "metadata": {},
      "outputs": [],
      "source": [
        "import sys, os\n",
        "import matplotlib.pyplot as plt\n",
        "sys.path.append(os.path.abspath('../src'))\n",
        "from pipeline import gold\n",
        "from utils import Engine, read_parquet\n",
        "\n",
        "data_dir = '../data'\n",
        "silver_path = os.path.join(data_dir, 'silver', 'sales_transformed.parquet')\n",
        "gold_path = os.path.join(data_dir, 'gold', 'sales_summary.parquet')\n",
        "\n",
        "gold(silver_path, gold_path)\n",
        "print('Gold written to', gold_path)\n",
        "\n",
        "engine = Engine.detect()\n",
        "df = read_parquet(engine, gold_path)\n",
        "\n",
        "# Plot revenue by region if pandas is used\n",
        "if not engine.use_spark:\n",
        "    ax = df.plot(kind='bar', x='region', y='total_revenue', title='Revenue by Region')\n",
        "    plt.tight_layout()\n",
        "    plt.show()\n"
      ]
    }
  ],
  "metadata": {
    "language_info": {
      "name": "python"
    }
  },
  "nbformat": 4,
  "nbformat_minor": 2
}
