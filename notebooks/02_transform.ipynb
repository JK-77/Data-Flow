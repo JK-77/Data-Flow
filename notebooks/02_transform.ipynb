{
  "cells": [
    {
      "cell_type": "code",
      "execution_count": null,
      "metadata": {},
      "outputs": [],
      "source": [
        "# 02 - Transform (bronze → silver)\n"
      ]
    },
    {
      "cell_type": "code",
      "execution_count": null,
      "metadata": {},
      "outputs": [],
      "source": [
        "import sys, os\n",
        "sys.path.append(os.path.abspath('../src'))\n",
        "from pipeline import silver\n",
        "\n",
        "data_dir = '../data'\n",
        "bronze_path = os.path.join(data_dir, 'bronze', 'cleaned_sales.parquet')\n",
        "silver_path = os.path.join(data_dir, 'silver', 'sales_transformed.parquet')\n",
        "silver(bronze_path, silver_path)\n",
        "print('Silver written to', silver_path)\n"
      ]
    }
  ],
  "metadata": {
    "language_info": {
      "name": "python"
    }
  },
  "nbformat": 4,
  "nbformat_minor": 2
}
