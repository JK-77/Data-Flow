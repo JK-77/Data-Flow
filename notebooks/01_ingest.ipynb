{
  "cells": [
    {
      "cell_type": "code",
      "execution_count": null,
      "metadata": {},
      "outputs": [],
      "source": [
        "# 01 - Ingest (raw → bronze)\n"
      ]
    },
    {
      "cell_type": "code",
      "execution_count": null,
      "metadata": {},
      "outputs": [],
      "source": [
        "import sys, os\n",
        "sys.path.append(os.path.abspath('../src'))\n",
        "from pipeline import bronze\n",
        "\n",
        "data_dir = '../data'\n",
        "raw_csv = os.path.join(data_dir, 'raw', 'sales.csv')\n",
        "bronze_path = os.path.join(data_dir, 'bronze', 'cleaned_sales.parquet')\n",
        "bronze(raw_csv, bronze_path)\n",
        "print('Bronze written to', bronze_path)\n"
      ]
    }
  ],
  "metadata": {
    "language_info": {
      "name": "python"
    }
  },
  "nbformat": 4,
  "nbformat_minor": 2
}
